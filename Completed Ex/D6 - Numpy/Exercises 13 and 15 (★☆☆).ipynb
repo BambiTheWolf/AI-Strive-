{
 "cells": [
  {
   "cell_type": "code",
   "execution_count": 1,
   "id": "biological-worcester",
   "metadata": {},
   "outputs": [],
   "source": [
    "# Import the needed libraries\n",
    "import numpy as np"
   ]
  },
  {
   "cell_type": "markdown",
   "id": "champion-greensboro",
   "metadata": {},
   "source": [
    "**13. Create a 10x10 array with random values and find the minimum and maximum values**"
   ]
  },
  {
   "cell_type": "code",
   "execution_count": 2,
   "id": "joint-explorer",
   "metadata": {},
   "outputs": [
    {
     "output_type": "stream",
     "name": "stdout",
     "text": [
      "[[0.33321335 0.44826989 0.51784648 0.46596472 0.08876517 0.81271065\n  0.51206886 0.19205676 0.01967848 0.85449038]\n [0.87877945 0.45513552 0.25798999 0.78708472 0.88382055 0.15057063\n  0.72128784 0.11917795 0.44057374 0.16482555]\n [0.51825335 0.68958065 0.16477142 0.06229627 0.79867263 0.51417698\n  0.14347661 0.32572298 0.31762304 0.17371045]\n [0.57266401 0.41026702 0.01311318 0.69704348 0.48914712 0.85591432\n  0.83588548 0.78750785 0.82621102 0.356612  ]\n [0.39714204 0.00933852 0.08395609 0.67733535 0.93852296 0.59302378\n  0.92386068 0.58506155 0.76523052 0.81211629]\n [0.5557695  0.53682003 0.82839903 0.1569361  0.85871772 0.12385861\n  0.28925943 0.97600394 0.4509451  0.26677603]\n [0.19505629 0.87054641 0.85303311 0.06277168 0.8369626  0.13275488\n  0.61200328 0.06019404 0.18321862 0.34739457]\n [0.03761045 0.62743839 0.83790124 0.86236033 0.5871162  0.65676915\n  0.07679493 0.39302097 0.32068525 0.65779129]\n [0.20369325 0.70472383 0.37383412 0.06035054 0.32609265 0.96945322\n  0.51483987 0.71359845 0.0658348  0.33862333]\n [0.36814697 0.63893336 0.90672959 0.87126971 0.1754533  0.67739948\n  0.24869074 0.40852179 0.03825853 0.03085039]]\nMin Value: 0.00933852226788201\nMax Value: 0.9760039362068074\n"
     ]
    }
   ],
   "source": [
    "a = np.random.random((10, 10))\n",
    "a_min = np.min(a)\n",
    "a_max = np.max(a)\n",
    "\n",
    "print(a)\n",
    "print(\"Min Value:\", a_min)\n",
    "print(\"Max Value:\", a_max)"
   ]
  },
  {
   "cell_type": "markdown",
   "id": "exempt-organ",
   "metadata": {},
   "source": [
    "**15. Create a 2d array with 1 on the border and 0 inside**"
   ]
  },
  {
   "cell_type": "code",
   "execution_count": 3,
   "id": "sufficient-facility",
   "metadata": {},
   "outputs": [
    {
     "output_type": "stream",
     "name": "stdout",
     "text": [
      "[[1. 1. 1. 1. 1. 1. 1. 1. 1. 1.]\n [1. 0. 0. 0. 0. 0. 0. 0. 0. 1.]\n [1. 0. 0. 0. 0. 0. 0. 0. 0. 1.]\n [1. 0. 0. 0. 0. 0. 0. 0. 0. 1.]\n [1. 0. 0. 0. 0. 0. 0. 0. 0. 1.]\n [1. 0. 0. 0. 0. 0. 0. 0. 0. 1.]\n [1. 0. 0. 0. 0. 0. 0. 0. 0. 1.]\n [1. 0. 0. 0. 0. 0. 0. 0. 0. 1.]\n [1. 0. 0. 0. 0. 0. 0. 0. 0. 1.]\n [1. 1. 1. 1. 1. 1. 1. 1. 1. 1.]]\n"
     ]
    }
   ],
   "source": [
    "a = np.ones((10,10))\n",
    "a[1:-1,1:-1] = 0\n",
    "print(a)"
   ]
  },
  {
   "cell_type": "code",
   "execution_count": null,
   "metadata": {},
   "outputs": [],
   "source": []
  }
 ],
 "metadata": {
  "kernelspec": {
   "name": "python3810jvsc74a57bd0542e527c5edeecebe268fb3ba8671c668ee9318bbfbaafaa969cc260869db77b",
   "display_name": "Python 3.8.10 64-bit ('Strive_env': conda)"
  },
  "language_info": {
   "codemirror_mode": {
    "name": "ipython",
    "version": 3
   },
   "file_extension": ".py",
   "mimetype": "text/x-python",
   "name": "python",
   "nbconvert_exporter": "python",
   "pygments_lexer": "ipython3",
   "version": "3.8.10"
  }
 },
 "nbformat": 4,
 "nbformat_minor": 5
}