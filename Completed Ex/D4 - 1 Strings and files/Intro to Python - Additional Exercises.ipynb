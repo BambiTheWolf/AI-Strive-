{
 "cells": [
  {
   "cell_type": "markdown",
   "metadata": {},
   "source": [
    "**Exercise 2.2 (optional):** Write code that classifies a given amount of money (which you store in a variable `amount`), specified in cents, as greater monetary units. Your code lists the monetary equivalent in dollars (100 ct), quarters (25 ct), dimes (10 ct), nickels (5 ct), and pennies (1 ct). Your program should report the maximum number of dollars that fit in the amount, then the maximum number of quarters that fit in the remainder after you subtract the dollars, then the maximum number of dimes that fit in the remainder after you subtract the dollars and quarters, and so on for nickels and pennies. The result is that you express the amount as the minimum number of coins needed.  \n",
    "\n",
    "**Can you do it again? Would you change anything from the last time you had to do this?**"
   ]
  },
  {
   "cell_type": "code",
   "execution_count": 4,
   "metadata": {},
   "outputs": [
    {
     "output_type": "execute_result",
     "data": {
      "text/plain": [
       "{'dollars': 25, 'quarters': 1, 'dimes': 1, 'nickels': 0, 'pennies': 1}"
      ]
     },
     "metadata": {},
     "execution_count": 4
    }
   ],
   "source": [
    "# Your Code Here\n",
    "total = int(input(\"Enter the total: \"))\n",
    "\n",
    "def total_cash(total):\n",
    "    cash = dict()\n",
    "    cash['dollars'] = total // 100\n",
    "    total_remainder = total % 100\n",
    "    cash['quarters'] = total_remainder // 25\n",
    "    total_remainder = total_remainder % 25\n",
    "    cash['dimes'] = total_remainder // 10\n",
    "    total_remainder = total_remainder % 10\n",
    "    cash['nickels'] = total_remainder // 5\n",
    "    total_remainder = total_remainder % 5\n",
    "    cash['pennies'] = total_remainder\n",
    "    return cash\n",
    "\n",
    "total_cash(total)\n"
   ]
  },
  {
   "cell_type": "markdown",
   "metadata": {},
   "source": [
    "**Exercise (optional)**: The factorial of a positive integer is that integer, multiplied by all positive integers that are lower (excluding zero). You write the factorial as the number with an exclamation mark after it. E.g., the factorial of 5 is `5! = 5 * 4 * 3 * 2 * 1 = 120`. Write a function that calculates the factorial of its (integer) parameter. Test your function for different parameter values, but do not use very large numbers as factorials grow exponentially. Hint: to do this with a `while` loop, you need at least one more variable."
   ]
  },
  {
   "cell_type": "code",
   "execution_count": 5,
   "metadata": {},
   "outputs": [
    {
     "output_type": "stream",
     "name": "stdout",
     "text": [
      "120\n"
     ]
    }
   ],
   "source": [
    "# Factorial\n",
    "def factorial(number):\n",
    "    factorial = 1\n",
    "    while number > 1:\n",
    "        factorial *= number\n",
    "        number -= 1\n",
    "    return factorial\n",
    "\n",
    "print(factorial(5))"
   ]
  },
  {
   "cell_type": "markdown",
   "metadata": {},
   "source": [
    "**Exercise 5.1 (optional):** Write a function that prints a multiplication table for digits 1 to 10. A multiplication table for the numbers 1 to `num = 3` looks as follows:\n",
    "\n",
    "`. |  1  2  3`<br>\n",
    "`------------`<br>\n",
    "`1 |  1  2  3`<br>\n",
    "`2 |  2  4  6`<br>\n",
    "`3 |  3  6  9`\n",
    "\n",
    "So the labels on the rows are multiplied by the labels on the columns, and the result is shown in the cell that is on that row/column combination. "
   ]
  },
  {
   "cell_type": "code",
   "execution_count": 6,
   "metadata": {},
   "outputs": [
    {
     "output_type": "stream",
     "name": "stdout",
     "text": [
      "  | 1 2 3 \n---------\n1 | 1 2 3 \n2 | 2 4 6 \n3 | 3 6 9 \n"
     ]
    }
   ],
   "source": [
    "# Print multiplication table\n",
    "def print_multiplication_table(n):\n",
    "    line1 = str(\"  | \")\n",
    "    for x in range(1, n+1):\n",
    "        line1 += str(x) + \" \"\n",
    "    \n",
    "    print (line1)\n",
    "    print (\"---\"*n)\n",
    "    \n",
    "    for y in range (1, n+1):\n",
    "        line = str(y) + \" | \"\n",
    "        for j in range (1, n+1):\n",
    "            line += str(y*j) + \" \"\n",
    "        \n",
    "        print(line)\n",
    "              \n",
    "print_multiplication_table(3)"
   ]
  },
  {
   "cell_type": "markdown",
   "metadata": {},
   "source": [
    "**Exercise 5.2 (optional):** If you did the previous exercise with a `while` loop, then do it again with a `for` loop. If you did it with a `for` loop, then do it again with a `while` loop. If you did not use a loop at all, you should be ashamed of yourself."
   ]
  },
  {
   "cell_type": "code",
   "execution_count": 18,
   "metadata": {},
   "outputs": [
    {
     "output_type": "stream",
     "name": "stdout",
     "text": [
      "     | 1\t2\t3\t4\t5\t\n---------------------------------------------\n1    | 1\t2\t3\t4\t5\t\n2    | 2\t4\t6\t8\t10\t\n3    | 3\t6\t9\t12\t15\t\n4    | 4\t8\t12\t16\t20\t\n5    | 5\t10\t15\t20\t25\t\n"
     ]
    }
   ],
   "source": [
    "# Print multiplication table\n",
    "def print_multiplication_table(n):\n",
    "    line1 = str(\"     | \")\n",
    "    x = 1\n",
    "    while x <= n:\n",
    "        line1 += str(x) + \"\\t\"\n",
    "        x += 1\n",
    "    \n",
    "    print (line1)\n",
    "    print (\"---------\"*n)\n",
    "    \n",
    "    i = 1\n",
    "    while i <= n:\n",
    "        line = str(i) + \"    | \"\n",
    "        j = 1\n",
    "        while j <= n:\n",
    "            line += str(i * j) + \"\\t\"\n",
    "            j += 1\n",
    "        i += 1\n",
    "        print(line)\n",
    "              \n",
    "print_multiplication_table(5)"
   ]
  },
  {
   "cell_type": "markdown",
   "metadata": {},
   "source": [
    "**Exercise 6.5 (optional):** Typical autocorrect functions are the following: \n",
    "1. if a word starts with two capitals, followed by a lower-case letter, the second capital is made lower case; \n",
    "2. if a sentence contains a word that is immediately followed by the same word, the second occurrence is removed; \n",
    "3. if a sentence starts with a lower-case letter, that letter is turned into a capital; \n",
    "4. if a word consists entirely of capitals, except for the first letter which is lower case, then the case of the letters in the word is reversed; and \n",
    "5. if the sentence contains the name of a day (in English) which does not start with a capital, the first letter is turned into a capital. \n",
    "\n",
    "Write a program that takes a sentence and makes these auto-corrections."
   ]
  },
  {
   "cell_type": "code",
   "execution_count": 21,
   "metadata": {},
   "outputs": [
    {
     "output_type": "execute_result",
     "data": {
      "text/plain": [
       "\"As it turned out our chance meeting with reverend arthur belling was to change our whole way of life, and every Sunday we'd hurry along to st loony up the cream bun and jam.\""
      ]
     },
     "metadata": {},
     "execution_count": 21
    }
   ],
   "source": [
    "# Autocorrect.\n",
    "sentence = \"as it turned out our chance meeting with REverend aRTHUR BElling was \\\n",
    "was to change our whole way of life, and every sunday we'd hurry along to St lOONY up the Cream BUn and Jam.\"\n",
    "\n",
    "def main(text):\n",
    "    \n",
    "    # doublewords\n",
    "    text = doublewords(text)\n",
    "    # capitals reversed\n",
    "    text = capital_s(text)\n",
    "    # capitalize days\n",
    "    text = days(text)\n",
    "    \n",
    "    return text\n",
    "\n",
    "def upperlower(w):\n",
    "    if w[0].isupper() and w[1].isupper():\n",
    "        return w.lower().capitalize()\n",
    "    return w\n",
    "\n",
    "def doublewords(text):\n",
    "    prev_w = \"\"\n",
    "    n_l = []\n",
    "    l = text.lower().split()\n",
    "    for w in l:\n",
    "        #calling upperlower here since we already loop through the words of a sentence\n",
    "        w = upperlower(w)\n",
    "        if w != prev_w:\n",
    "            n_l.append(w)\n",
    "        prev_w = w\n",
    "    return \" \".join(n_l)\n",
    "\n",
    "def capital_s(s):\n",
    "    return s.capitalize()\n",
    "\n",
    "def days(s):\n",
    "    days = [\"monday\", \"tuesday\", \"wednesday\", \"thursday\", \"friday\", \"saturday\", \"sunday\"]\n",
    "    nl = []\n",
    "    for word in s.split():\n",
    "        if word in days:\n",
    "            nl.append(word.capitalize())\n",
    "        else:\n",
    "            nl.append(word)\n",
    "    return \" \".join(nl)\n",
    "    \n",
    "if __name__ == \"__main__\":    \n",
    "    main(sentence)\n",
    "\n",
    "main(sentence)\n"
   ]
  },
  {
   "cell_type": "markdown",
   "metadata": {},
   "source": [
    "### Exercise 11.3 (Optional)\n",
    "In this directory you find a file `blakepoems.txt`. Write a program that processes the contents of this file, line by line. It creates an output file in the current working directory called `blkpms.txt`, which has the same contents as `blakepoems.txt`, except that all the vowels are removed (case-insensitively). At the end, display how many characters you read, and how many characters you wrote. If you want to check the contents of `blkpms.txt`, you can either open it in a text editor, or display the first 10 lines or so at the end of your program."
   ]
  },
  {
   "cell_type": "code",
   "execution_count": null,
   "metadata": {},
   "outputs": [],
   "source": [
    "## Your Code Here"
   ]
  }
 ],
 "metadata": {
  "kernelspec": {
   "name": "python3810jvsc74a57bd0542e527c5edeecebe268fb3ba8671c668ee9318bbfbaafaa969cc260869db77b",
   "display_name": "Python 3.8.10 64-bit ('Strive_env': conda)"
  },
  "language_info": {
   "codemirror_mode": {
    "name": "ipython",
    "version": 3
   },
   "file_extension": ".py",
   "mimetype": "text/x-python",
   "name": "python",
   "nbconvert_exporter": "python",
   "pygments_lexer": "ipython3",
   "version": "3.8.10"
  }
 },
 "nbformat": 4,
 "nbformat_minor": 2
}