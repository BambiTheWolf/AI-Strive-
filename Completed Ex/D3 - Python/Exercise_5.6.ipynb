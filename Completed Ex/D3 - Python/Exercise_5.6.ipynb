{
 "metadata": {
  "language_info": {
   "codemirror_mode": {
    "name": "ipython",
    "version": 3
   },
   "file_extension": ".py",
   "mimetype": "text/x-python",
   "name": "python",
   "nbconvert_exporter": "python",
   "pygments_lexer": "ipython3",
   "version": "3.8.10"
  },
  "orig_nbformat": 2,
  "kernelspec": {
   "name": "python3810jvsc74a57bd0542e527c5edeecebe268fb3ba8671c668ee9318bbfbaafaa969cc260869db77b",
   "display_name": "Python 3.8.10 64-bit ('Strive_env': conda)"
  }
 },
 "nbformat": 4,
 "nbformat_minor": 2,
 "cells": [
  {
   "cell_type": "code",
   "execution_count": 1,
   "metadata": {},
   "outputs": [
    {
     "output_type": "stream",
     "name": "stdout",
     "text": [
      "True\n"
     ]
    }
   ],
   "source": [
    "#Your Code Here\n",
    "y = int(input())\n",
    "\n",
    "def is_prime(n):\n",
    "    i = 2\n",
    "    while i < n-1:\n",
    "        if round(n / i) == n / i:\n",
    "            prime = False\n",
    "            break\n",
    "        i += 1\n",
    "    else:\n",
    "        prime = True\n",
    "    if n == 1:\n",
    "        prime = False\n",
    "    print(prime)\n",
    "is_prime(y)"
   ]
  },
  {
   "cell_type": "code",
   "execution_count": null,
   "metadata": {},
   "outputs": [],
   "source": []
  }
 ]
}