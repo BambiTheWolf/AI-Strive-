{
 "metadata": {
  "language_info": {
   "codemirror_mode": {
    "name": "ipython",
    "version": 3
   },
   "file_extension": ".py",
   "mimetype": "text/x-python",
   "name": "python",
   "nbconvert_exporter": "python",
   "pygments_lexer": "ipython3",
   "version": "3.8.10"
  },
  "orig_nbformat": 2,
  "kernelspec": {
   "name": "python3810jvsc74a57bd0542e527c5edeecebe268fb3ba8671c668ee9318bbfbaafaa969cc260869db77b",
   "display_name": "Python 3.8.10 64-bit ('Strive_env': conda)"
  }
 },
 "nbformat": 4,
 "nbformat_minor": 2,
 "cells": [
  {
   "cell_type": "code",
   "execution_count": 1,
   "metadata": {},
   "outputs": [
    {
     "output_type": "stream",
     "name": "stdout",
     "text": [
      "A = 2\nB = 1\nC = 7\nD = 8\n"
     ]
    }
   ],
   "source": [
    "numbers = [0, 1, 2, 3, 4, 5, 6, 7, 8, 9]\n",
    "\n",
    "def nested_nest(numbers):\n",
    "\n",
    "    \"\"\"\n",
    "    A = 2\n",
    "    B = 1\n",
    "    C = 7\n",
    "    D = 8\n",
    "    \"\"\"\n",
    "    for a in numbers[1:]:\n",
    "        for b in numbers:\n",
    "            for c in numbers:\n",
    "                for d in numbers[1:]:\n",
    "                    if 4*(a*1000+b*100+c*10+d*1) == (d*1000+c*100+b*10+a*1):\n",
    "                        print('A =', a)\n",
    "                        print('B =', b)\n",
    "                        print('C =', c)\n",
    "                        print('D =', d)\n",
    "\n",
    "nested_nest(numbers)"
   ]
  },
  {
   "cell_type": "code",
   "execution_count": null,
   "metadata": {},
   "outputs": [],
   "source": []
  }
 ]
}