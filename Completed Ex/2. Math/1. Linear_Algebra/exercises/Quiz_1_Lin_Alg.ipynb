{
 "cells": [
  {
   "cell_type": "markdown",
   "metadata": {},
   "source": [
    "## Linear Algebra Quiz #1\n",
    "\n",
    "![title](./img/1_0.jpeg)\n",
    "\n",
    "We strongly suggest working with numpy :)"
   ]
  },
  {
   "cell_type": "code",
   "execution_count": 1,
   "metadata": {},
   "outputs": [],
   "source": [
    "#Do your imports here\n",
    "import numpy as np\n",
    "import pandas as pd"
   ]
  },
  {
   "cell_type": "markdown",
   "metadata": {},
   "source": [
    "![title](./img/1_1.png)"
   ]
  },
  {
   "cell_type": "code",
   "execution_count": 9,
   "metadata": {},
   "outputs": [
    {
     "output_type": "stream",
     "name": "stdout",
     "text": [
      "11.224972160321824\n10.954451150103322\n"
     ]
    }
   ],
   "source": [
    "# type a function that given a 3_dimensional vector it is able to calculate its magnitude\n",
    "\n",
    "def magnitude_3(a,b,c):\n",
    "   list = [a, b, c]\n",
    "   return np.linalg.norm(list)\n",
    "\n",
    "# type a function that given a n_dimensional vector it is able to calculate its magnitude\n",
    "# if you want to try this from python (not jupyter notebook) https://docs.python.org/3/library/argparse.html would be a good addition\n",
    "# if you are doing this from a jupyter notebook only, you can try to promt the user for an input  \n",
    "\n",
    "def magnitude_complete(*args):\n",
    "    list = []\n",
    "    for i in args:\n",
    "        list.append(i)\n",
    "    return np.linalg.norm(list)\n",
    "\n",
    "print(magnitude_3(3, 6, 9))\n",
    "print(magnitude_complete(2, 4, 6, 8))"
   ]
  },
  {
   "cell_type": "markdown",
   "metadata": {},
   "source": [
    "uncomment the following line when you are ready to test"
   ]
  },
  {
   "cell_type": "code",
   "execution_count": 10,
   "metadata": {},
   "outputs": [
    {
     "output_type": "execute_result",
     "data": {
      "text/plain": [
       "True"
      ]
     },
     "metadata": {},
     "execution_count": 10
    }
   ],
   "source": [
    "magnitude_complete(1) == 1.0\n",
    "magnitude_complete(1,2) >= 2.236\n",
    "magnitude_complete(1,2,3) >= 3.741\n",
    "magnitude_complete(1,2,3,4,5) >= 5.477\n",
    "magnitude_complete(1,2,3,4,5) >= 7.416"
   ]
  },
  {
   "cell_type": "markdown",
   "metadata": {},
   "source": [
    "![title](./img/1_2.png)"
   ]
  },
  {
   "cell_type": "code",
   "execution_count": 15,
   "metadata": {},
   "outputs": [
    {
     "output_type": "stream",
     "name": "stdout",
     "text": [
      "1.0\n"
     ]
    },
    {
     "output_type": "execute_result",
     "data": {
      "text/plain": [
       "1.0"
      ]
     },
     "metadata": {},
     "execution_count": 15
    }
   ],
   "source": [
    "def magnitude_vectors(a, b):\n",
    "    #checks that size is equal\n",
    "    a = np.array(a)\n",
    "    b = np.array(b)\n",
    "    size_a = a.size\n",
    "    size_b = b.size\n",
    "    \n",
    "    try:\n",
    "        size_a == size_b\n",
    "        a_b_sum = a + b\n",
    "        return np.linalg.norm(a_b_sum)\n",
    "    \n",
    "    except:\n",
    "        print(f'Vectors are different dimensions {size_a} and {size_b}')\n",
    "    #returns the magnitude\n",
    "\n",
    "a = np.array([5, 1])\n",
    "b = np.array([-4,-1])\n",
    "print(magnitude_vectors(a, b))\n",
    "# but also \n",
    "magnitude_vectors([5, 1], [-4, -1])"
   ]
  },
  {
   "cell_type": "markdown",
   "metadata": {},
   "source": [
    "![title](./img/1_3.png)"
   ]
  },
  {
   "cell_type": "code",
   "execution_count": 17,
   "metadata": {},
   "outputs": [],
   "source": [
    "def direction_vectors(a, b):\n",
    "    a = np.array(a)\n",
    "    b = np.array(b)\n",
    "    a_size = a.size\n",
    "    b_size = b.size\n",
    "    \n",
    "    try:\n",
    "        #checks that size is equal\n",
    "        a_size == b_size\n",
    "    \n",
    "        #returns the direction\n",
    "        a_b_sum = a + b\n",
    "        \n",
    "        return a_b_sum\n",
    "    \n",
    "    except:\n",
    "        print('Vectors are different dimensions {} and {}'.format(a_size, b_size))"
   ]
  },
  {
   "cell_type": "code",
   "execution_count": 18,
   "metadata": {},
   "outputs": [
    {
     "output_type": "execute_result",
     "data": {
      "text/plain": [
       "array([1, 0])"
      ]
     },
     "metadata": {},
     "execution_count": 18
    }
   ],
   "source": [
    "direction_vectors(a, b)"
   ]
  },
  {
   "cell_type": "markdown",
   "metadata": {},
   "source": [
    "![title](./img/1_4.png)\n",
    "- What is the magnitude of αx⃗? \n",
    "- If α>0, will the direction of the resulting vector change?\n",
    "- If α<0, will the direction of the resulting vector change?\n",
    "- If −1<α<1, will ∥αx⃗∥  increase, decrease or stay the same?"
   ]
  },
  {
   "cell_type": "code",
   "execution_count": 20,
   "metadata": {},
   "outputs": [
    {
     "output_type": "stream",
     "name": "stdout",
     "text": [
      "The direction has changed 180 degrees\n"
     ]
    },
    {
     "output_type": "execute_result",
     "data": {
      "text/plain": [
       "(array([-8, -8]), 11.313708498984761)"
      ]
     },
     "metadata": {},
     "execution_count": 20
    }
   ],
   "source": [
    "import numpy as np\n",
    "def alpha_magnitude(alpha, b):\n",
    "    #returns the resulting magnitude, if the direction has changed and what has happened to the vector\n",
    "    b = np.array(b)\n",
    "    vector = alpha * b\n",
    "    if np.sign(b[0]) == np.sign(vector[0]):\n",
    "        print('No directional change')\n",
    "    else:\n",
    "        print('The direction has changed 180 degrees')\n",
    "    return (vector,  np.linalg.norm(vector))\n",
    "\n",
    "alpha_magnitude(-8, [1,1])"
   ]
  },
  {
   "cell_type": "code",
   "execution_count": null,
   "metadata": {},
   "outputs": [],
   "source": []
  }
 ],
 "metadata": {
  "kernelspec": {
   "name": "python388jvsc74a57bd0637780ddf710188eed85dc675cef670ea8529698f952a29ff9ef27e1eb8209ac",
   "display_name": "Python 3.8.8 64-bit ('base': conda)"
  },
  "language_info": {
   "codemirror_mode": {
    "name": "ipython",
    "version": 3
   },
   "file_extension": ".py",
   "mimetype": "text/x-python",
   "name": "python",
   "nbconvert_exporter": "python",
   "pygments_lexer": "ipython3",
   "version": "3.8.8"
  }
 },
 "nbformat": 4,
 "nbformat_minor": 2
}