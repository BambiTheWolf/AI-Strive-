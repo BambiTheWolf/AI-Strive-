{
 "cells": [
  {
   "cell_type": "code",
   "execution_count": 5,
   "id": "comic-license",
   "metadata": {},
   "outputs": [],
   "source": [
    "# import the needed libraries and datasets\n",
    "import pandas as pd\n",
    "import numpy as np\n"
   ]
  },
  {
   "cell_type": "markdown",
   "id": "after-lithuania",
   "metadata": {},
   "source": [
    "**26.** You have a DataFrame that consists of 10 columns of floating--point numbers. Suppose that exactly 5 entries in each row are NaN values. For each row of the DataFrame, find the *column* which contains the *third* NaN value.\n",
    "\n",
    "(You should return a Series of column labels. Try not to use `.iterrows()`)"
   ]
  },
  {
   "cell_type": "code",
   "execution_count": 10,
   "id": "supported-bicycle",
   "metadata": {},
   "outputs": [
    {
     "output_type": "execute_result",
     "data": {
      "text/plain": [
       "0    3\n",
       "1    8\n",
       "2    5\n",
       "3    6\n",
       "4    8\n",
       "dtype: int64"
      ]
     },
     "metadata": {},
     "execution_count": 10
    }
   ],
   "source": [
    "dfdata = {\n",
    "1:[np.nan,2,np.nan,4,5],\n",
    "2:[np.nan,2,3,np.nan,5],\n",
    "3:[np.nan,2,np.nan,4,5],\n",
    "4:[1,np.nan,3,np.nan,np.nan],\n",
    "5:[1,2,np.nan,4,5],\n",
    "6:[1,np.nan,3,np.nan,np.nan],\n",
    "7:[1,2,3,4,5],\n",
    "8:[1,np.nan,3,np.nan,np.nan],\n",
    "9:[1,2,3,4,np.nan],\n",
    "10:[1,np.nan,3,4,5]}\n",
    "\n",
    "df_26 = pd.DataFrame(dfdata)\n",
    "df_26\n",
    "\n",
    "table = df_26.isnull()\n",
    "indexes = []\n",
    "for index, row in table.iterrows():\n",
    "    counter = 0\n",
    "    idx = 1\n",
    "    for value in row:\n",
    "        if value == True:\n",
    "            counter +=1\n",
    "            if counter == 3:\n",
    "                indexes.append(idx)\n",
    "        idx += 1\n",
    "indexes\n",
    "\n",
    "(df_26.isnull().cumsum(axis=1) == 3).idxmax(axis=1)"
   ]
  },
  {
   "cell_type": "code",
   "execution_count": null,
   "id": "asian-thought",
   "metadata": {},
   "outputs": [],
   "source": []
  },
  {
   "cell_type": "markdown",
   "id": "severe-count",
   "metadata": {},
   "source": [
    "**27.** A DataFrame has a column of groups 'grps' and and column of numbers 'vals'. For example: \n",
    "\n",
    "```python\n",
    "df = pd.DataFrame({'grps': list('aaabbcaabcccbbc'), \n",
    "                   'vals': [12,345,3,1,45,14,4,52,54,23,235,21,57,3,87]})\n",
    "```\n",
    "For each *group*, find the sum of the three greatest values."
   ]
  },
  {
   "cell_type": "code",
   "execution_count": 11,
   "id": "czech-superior",
   "metadata": {},
   "outputs": [
    {
     "output_type": "execute_result",
     "data": {
      "text/plain": [
       "grps\n",
       "a    409\n",
       "b    156\n",
       "c    345\n",
       "Name: vals, dtype: int64"
      ]
     },
     "metadata": {},
     "execution_count": 11
    }
   ],
   "source": [
    "df_27 = pd.DataFrame({'grps': list('aaabbcaabcccbbc'), \n",
    "                   'vals': [12,345,3,1,45,14,4,52,54,23,235,21,57,3,87]})\n",
    "\n",
    "df_27.groupby('grps')['vals'].nlargest(3).sum(level=0)"
   ]
  },
  {
   "cell_type": "code",
   "execution_count": null,
   "metadata": {},
   "outputs": [],
   "source": []
  }
 ],
 "metadata": {
  "kernelspec": {
   "name": "python3810jvsc74a57bd0542e527c5edeecebe268fb3ba8671c668ee9318bbfbaafaa969cc260869db77b",
   "display_name": "Python 3.8.10 64-bit ('Strive_env': conda)"
  },
  "language_info": {
   "codemirror_mode": {
    "name": "ipython",
    "version": 3
   },
   "file_extension": ".py",
   "mimetype": "text/x-python",
   "name": "python",
   "nbconvert_exporter": "python",
   "pygments_lexer": "ipython3",
   "version": "3.8.10"
  }
 },
 "nbformat": 4,
 "nbformat_minor": 5
}